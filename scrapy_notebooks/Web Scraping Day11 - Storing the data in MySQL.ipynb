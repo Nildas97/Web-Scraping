{
 "cells": [
  {
   "cell_type": "markdown",
   "id": "8d9354bc",
   "metadata": {},
   "source": [
    "# STORING THE DATA IN MySQL DATABASE"
   ]
  },
  {
   "cell_type": "markdown",
   "id": "17acae5e",
   "metadata": {},
   "source": [
    "### By Nilutpal Das"
   ]
  },
  {
   "cell_type": "markdown",
   "id": "a9c94737",
   "metadata": {},
   "source": [
    "# NOTE : the process shown in this section is built to be run in dedicated IDE also inside a specific folder discussed in the previous notebooks."
   ]
  },
  {
   "cell_type": "markdown",
   "id": "8252cfeb",
   "metadata": {},
   "source": [
    "### 1. first create a database in mysql workbench and then create a table inside the database."
   ]
  },
  {
   "cell_type": "markdown",
   "id": "631337b4",
   "metadata": {},
   "source": [
    "### 2. then create a the program in the pipelines.py similar to the sqlite3 program with lil tweaks for mysql."
   ]
  },
  {
   "cell_type": "markdown",
   "id": "6998b670",
   "metadata": {},
   "source": [
    "### NOTE : while working with the mysql databases, you have to install this 'mysql-connector-python' package in your virtual environment for connecting the scrapy project with mysql wokrbench."
   ]
  },
  {
   "cell_type": "raw",
   "id": "e7a0a9b0",
   "metadata": {},
   "source": [
    "# Define your item pipelines here\n",
    "#\n",
    "# Don't forget to add your pipeline to the ITEM_PIPELINES setting\n",
    "# See: https://docs.scrapy.org/en/latest/topics/item-pipeline.html\n",
    "\n",
    "\n",
    "# useful for handling different item types with a single interface\n",
    "\n",
    "import mysql.connector\n",
    "from itemadapter import ItemAdapter\n",
    "\n",
    "\n",
    "class WebscrapyPipeline:\n",
    "    \n",
    "    def __init__(self):\n",
    "        self.create_connection()\n",
    "        self.create_table()\n",
    "    \n",
    "    def create_connection(self):\n",
    "        self.conn = mysql.connector.connect(\n",
    "            host = 'localhost',\n",
    "            user = 'root',\n",
    "            passwd = '0000000',\n",
    "            database = 'myquotes'\n",
    "        )\n",
    "        self.curr = self.conn.cursor()\n",
    "    \n",
    "    def create_table(self):\n",
    "        self.curr.execute(\"\"\"DROP TABLE IF EXISTS quote_tb\"\"\")\n",
    "        self.curr.execute(\"\"\"CREATE TABLE quotes_tb(\n",
    "                        quote text,\n",
    "                        author text,\n",
    "                        tag text\n",
    "                        )\"\"\")\n",
    "        \n",
    "    def process_item(self, item, spider):\n",
    "        \n",
    "        self.store_db(item)\n",
    "        print(\"Pipeline is working successfully\")\n",
    "\n",
    "        return item\n",
    "\n",
    "    def store_db(self,item):\n",
    "        self.curr.execute(\"\"\"INSERT INTO quotes_tb VALUES (%s,%s,%s)\"\"\",\n",
    "        (\n",
    "                item['quote'][0],\n",
    "                item['author'][0],\n",
    "                item['tag'][0]\n",
    "        ))\n",
    "        self.conn.commit()"
   ]
  },
  {
   "cell_type": "markdown",
   "id": "62325979",
   "metadata": {},
   "source": [
    "### in the above code, <br> 1. first we are importing the necessary libraries. <br> 2. second create a class WebscrapyPipeline. <br> 3. now inside the class first create an init function, second create a function to establish a connection with the mysql database, then third function is to create tables inside the database, fourth function is to store the data into the tables and at last push the entire the data into the database."
   ]
  },
  {
   "cell_type": "markdown",
   "id": "171d6df0",
   "metadata": {},
   "source": [
    "### 3. simply run the scrapy project, the pipelines.py will do his work and all your scraped data will be in the mysql database."
   ]
  }
 ],
 "metadata": {
  "kernelspec": {
   "display_name": "Python 3 (ipykernel)",
   "language": "python",
   "name": "python3"
  },
  "language_info": {
   "codemirror_mode": {
    "name": "ipython",
    "version": 3
   },
   "file_extension": ".py",
   "mimetype": "text/x-python",
   "name": "python",
   "nbconvert_exporter": "python",
   "pygments_lexer": "ipython3",
   "version": "3.11.5"
  }
 },
 "nbformat": 4,
 "nbformat_minor": 5
}
