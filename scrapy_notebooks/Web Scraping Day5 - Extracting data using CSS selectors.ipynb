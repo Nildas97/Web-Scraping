{
 "cells": [
  {
   "cell_type": "markdown",
   "id": "ee341150",
   "metadata": {},
   "source": [
    "# EXTRACTING THE DATA USING CSS SELECTORS"
   ]
  },
  {
   "cell_type": "markdown",
   "id": "1c73b68e",
   "metadata": {},
   "source": [
    "### By - Nilutpal Das"
   ]
  },
  {
   "cell_type": "markdown",
   "id": "98fc2a2e",
   "metadata": {},
   "source": [
    "## NOTE : the process shown in this section is built to be run in dedicated IDE also inside a specific folder discussed in the previous notebook."
   ]
  },
  {
   "cell_type": "markdown",
   "id": "88db1ba4",
   "metadata": {},
   "source": [
    "## CODE\n",
    "### For more info regarding the code follow this path : webscrapy/webscrapy/spiders/scrapyquotes.py"
   ]
  },
  {
   "cell_type": "raw",
   "id": "61f0b96a",
   "metadata": {},
   "source": [
    "# CREATING AND RUNNING THE FIRST SPIDER CRAWLER\n",
    "\n",
    "# importing the library\n",
    "import scrapy\n",
    "\n",
    "# creating class \n",
    "class QuoteSpider(scrapy.Spider):\n",
    "    # creating a name variable \n",
    "    name = 'quotes'\n",
    "    # creating start_urls variable to store the url link\n",
    "    start_urls = ['https://quotes.toscrape.com/']\n",
    "    \n",
    "\n",
    "    # defining a funtion parse\n",
    "    def parse(self, response):\n",
    "        # creating a variable title to extract the data using css selector\n",
    "        title = response.css('title::text').extract()\n",
    "        # returning the output using yield keyword\n",
    "        yield {'titletext' : title}"
   ]
  },
  {
   "cell_type": "markdown",
   "id": "0b9a2bde",
   "metadata": {},
   "source": [
    "### Scraping the website title can be done in two ways, method one using the scraping program or you can use method two\"scrapy shell\".\n",
    "### scrapy shell is a command line mode to use the scrapy in terminal."
   ]
  },
  {
   "cell_type": "markdown",
   "id": "9cbb740d",
   "metadata": {},
   "source": [
    "### NOTE : by running the program or by using the scrapy shell in both ways we are using css selectors to extract the title from the website.\n",
    "### CSS selectors - extracting the html tag, the css tag or an id from a website source code."
   ]
  },
  {
   "cell_type": "markdown",
   "id": "63d67ef7",
   "metadata": {},
   "source": [
    "## 1. run this command inside the terminal \n",
    "**scrapy shell \"website_link\"** i.e in our case \"https://quotes.toscrape.com/\""
   ]
  },
  {
   "cell_type": "markdown",
   "id": "b456b82b",
   "metadata": {},
   "source": [
    "### after running the command it will show the status of the crawler along with response code 200 i.e. clear to proceed."
   ]
  },
  {
   "cell_type": "markdown",
   "id": "bf0cb690",
   "metadata": {},
   "source": [
    "# IF YOU WANT TO EXTRACT A TITLE FROM THE WEBSITE USE BELOW COMMANDS"
   ]
  },
  {
   "cell_type": "markdown",
   "id": "e6047513",
   "metadata": {},
   "source": [
    "## 2. run this command inside the terminal \n",
    "**response.css(\"title\")**"
   ]
  },
  {
   "cell_type": "markdown",
   "id": "a20aa973",
   "metadata": {},
   "source": [
    "### it will give you this output, that has the title tag but along with some additional info. "
   ]
  },
  {
   "cell_type": "raw",
   "id": "3a3ec1ab",
   "metadata": {},
   "source": [
    "[<Selector query='descendant-or-self::title' data='<title>Quotes to Scrape</title>'>]"
   ]
  },
  {
   "cell_type": "markdown",
   "id": "fd4c9d97",
   "metadata": {},
   "source": []
  },
  {
   "cell_type": "markdown",
   "id": "d3e46166",
   "metadata": {},
   "source": [
    "## 3. again run the command by adding the extract()\n",
    "**response.css(\"title\").extract()**"
   ]
  },
  {
   "cell_type": "markdown",
   "id": "36614201",
   "metadata": {},
   "source": [
    "### now it will give you the exact title inside title tag. "
   ]
  },
  {
   "cell_type": "raw",
   "id": "56f09256",
   "metadata": {},
   "source": [
    "['<title>Quotes to Scrape</title>']"
   ]
  },
  {
   "cell_type": "markdown",
   "id": "fbf16448",
   "metadata": {},
   "source": [
    "## 4. if we want only the title without the title tag then run this command.\n",
    "**response.css(\"title::text\").extract()**"
   ]
  },
  {
   "cell_type": "markdown",
   "id": "cc2eda02",
   "metadata": {},
   "source": [
    "### this will give you the title only."
   ]
  },
  {
   "cell_type": "raw",
   "id": "1e9b891a",
   "metadata": {},
   "source": [
    "['Quotes to Scrape']"
   ]
  },
  {
   "cell_type": "markdown",
   "id": "4622592c",
   "metadata": {},
   "source": [
    "### as you can see that the title is inside a list. so to extract it out from the list, there are two option. <br> 1. slicing method <br> 2. extract_first() method"
   ]
  },
  {
   "cell_type": "markdown",
   "id": "a1b21bac",
   "metadata": {},
   "source": [
    "### for slicing method, run this command in the terminal\n",
    "**response.css(\"title::text\")[0].extract()**"
   ]
  },
  {
   "cell_type": "raw",
   "id": "61944a25",
   "metadata": {},
   "source": [
    "'Quotes to Scrape'"
   ]
  },
  {
   "cell_type": "markdown",
   "id": "860222ee",
   "metadata": {},
   "source": [
    "### for extract_first() method, run this command in the terminal\n",
    "**response.css(\"title::text\").extract_first()**"
   ]
  },
  {
   "cell_type": "markdown",
   "id": "ba83a27f",
   "metadata": {},
   "source": [
    "### BENEFIT OF USING SECOND METHOD OVER FIRST \n",
    "### if there is no title and if you use the first method then it will show error but in second method it will show only none."
   ]
  },
  {
   "cell_type": "markdown",
   "id": "c1da6f74",
   "metadata": {},
   "source": [
    "### BENEFIT OF USING FIRST METHOD OVER SECOND\n",
    "### if you want to extract the second word or multiple words from the list you can use first method instead of second one."
   ]
  },
  {
   "cell_type": "markdown",
   "id": "7eb1d3e2",
   "metadata": {},
   "source": [
    "# IF YOU WANT TO EXTRACT A SPECIFIC TEXT FROM THE WEBSITE USE BELOW COMMANDS"
   ]
  },
  {
   "cell_type": "markdown",
   "id": "c217fba4",
   "metadata": {},
   "source": [
    "## 5. run this command inside the terminal, example : extract all quote from the website first page\n",
    "**response.css(\"span.text::text\").extract()** <br> \n",
    "## 6. example : extract specific quote from the website first page, \n",
    "**response.css(\"span.text::text\")[1].extract()**"
   ]
  },
  {
   "cell_type": "markdown",
   "id": "7be55715",
   "metadata": {},
   "source": [
    "### NOTE : in the \"span.text::text\", <br> here the 'span' is the tag just like title tag. <br> here the text in 'span.text' is the class. <br> here the last text in 'span.text::text' is the text inside the span tag inside class text."
   ]
  },
  {
   "cell_type": "markdown",
   "id": "ae8f248c",
   "metadata": {},
   "source": [
    "# NOTE : there is an extension name 'selectorgadget' for css selectors, installed it in your browser from chrome web store to extract css selectors.\n",
    "\n",
    "## 1. after installation, click on the extension to turn on the extension. <br> 2. hover on over the website you want to scrape. <br> 3. click on the section you want to extract. <br> 4. it will show you the type of css selector is used in the bottom bar. <br> 5. copy and paste it in scrapy shell in the terminal. e.g. : point 7."
   ]
  },
  {
   "cell_type": "markdown",
   "id": "0ebc95c7",
   "metadata": {},
   "source": [
    "## 7. run this command inside the terminal, example : to extract all authors name from the website\n",
    "**response.css('.author::text').extract()**"
   ]
  },
  {
   "cell_type": "raw",
   "id": "b26e8bb1",
   "metadata": {},
   "source": [
    "['Albert Einstein', 'J.K. Rowling', 'Albert Einstein', 'Jane Austen', 'Marilyn Monroe', 'Albert Einstein', 'André Gide', 'Thomas A. Edison', 'Eleanor Roosevelt', 'Steve Martin']"
   ]
  },
  {
   "cell_type": "markdown",
   "id": "4df2a509",
   "metadata": {},
   "source": [
    "## 8. example : to extract the specific author name from the website\n",
    "**response.css('.author::text')[0].extract()**"
   ]
  },
  {
   "cell_type": "raw",
   "id": "de47c9ee",
   "metadata": {},
   "source": [
    "'Albert Einstein'"
   ]
  },
  {
   "cell_type": "markdown",
   "id": "0a843772",
   "metadata": {},
   "source": [
    "## NOTE : while selecting a specific data, you'll observe that some other elements are also gets selected. to remove others, hover to the unwanted section and left click to unselect it."
   ]
  }
 ],
 "metadata": {
  "kernelspec": {
   "display_name": "Python 3 (ipykernel)",
   "language": "python",
   "name": "python3"
  },
  "language_info": {
   "codemirror_mode": {
    "name": "ipython",
    "version": 3
   },
   "file_extension": ".py",
   "mimetype": "text/x-python",
   "name": "python",
   "nbconvert_exporter": "python",
   "pygments_lexer": "ipython3",
   "version": "3.11.5"
  }
 },
 "nbformat": 4,
 "nbformat_minor": 5
}
