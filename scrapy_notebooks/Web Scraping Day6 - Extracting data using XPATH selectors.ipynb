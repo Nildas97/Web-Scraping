{
 "cells": [
  {
   "cell_type": "markdown",
   "id": "84aac709",
   "metadata": {},
   "source": [
    "# EXTRACTING DATA USING XPATH SELECTORS"
   ]
  },
  {
   "cell_type": "markdown",
   "id": "1cf21dc1",
   "metadata": {},
   "source": [
    "### By - Nilutpal Das"
   ]
  },
  {
   "cell_type": "markdown",
   "id": "0427cac1",
   "metadata": {},
   "source": [
    "# NOTE : the process shown in this section is built to be run in dedicated IDE also inside a specific folder discussed in the previous notebook."
   ]
  },
  {
   "cell_type": "markdown",
   "id": "9791588a",
   "metadata": {},
   "source": [
    "# CODE\n",
    "### For more info regarding the code follow this path : webscrapy/webscrapy/spiders/scrapyquotes.py"
   ]
  },
  {
   "cell_type": "raw",
   "id": "d86ea745",
   "metadata": {},
   "source": [
    "# CREATING AND RUNNING THE FIRST SPIDER CRAWLER\n",
    "\n",
    "# importing the library\n",
    "import scrapy\n",
    "\n",
    "# creating class \n",
    "class QuoteSpider(scrapy.Spider):\n",
    "    # creating a name variable \n",
    "    name = 'quotes'\n",
    "    # creating start_urls variable to store the url link\n",
    "    start_urls = ['https://quotes.toscrape.com/']\n",
    "    \n",
    "\n",
    "    # defining a funtion parse\n",
    "    def parse(self, response):\n",
    "        # creating a variable title to extract the data using css selector\n",
    "        title = response.css('title::text').extract()\n",
    "        # returning the output using yield keyword\n",
    "        yield {'titletext' : title}"
   ]
  },
  {
   "cell_type": "markdown",
   "id": "e5c50d42",
   "metadata": {},
   "source": [
    "### Scraping the website title can be done in two ways, method one using the scraping program or you can use method two\"scrapy shell\".\n",
    "### scrapy shell is a command line mode to use the scrapy in terminal."
   ]
  },
  {
   "cell_type": "markdown",
   "id": "39f58487",
   "metadata": {},
   "source": [
    "## 1. run this command inside the terminal\n",
    "**scrapy shell \"website_link\"** i.e in our case \"https://quotes.toscrape.com/\""
   ]
  },
  {
   "cell_type": "markdown",
   "id": "17ba2ce1",
   "metadata": {},
   "source": [
    "### after running the command it will show the status of the crawler along with response code 200 i.e. clear to proceed."
   ]
  },
  {
   "cell_type": "markdown",
   "id": "dfeb0e9b",
   "metadata": {},
   "source": [
    "## 2. to extract the title from the website\n",
    "**response.xpath('//title/text()').extract()**"
   ]
  },
  {
   "cell_type": "markdown",
   "id": "eebbc4d2",
   "metadata": {},
   "source": [
    "### NOTE : <br> 1. the '//title' means the title tag. <br> 2. '/text()' means the format of data to be extracted."
   ]
  },
  {
   "cell_type": "markdown",
   "id": "562cd709",
   "metadata": {},
   "source": [
    "## 3. to extract all quotes from the website\n",
    "**response.xpath(\"//span[@class='text']/text()\").extract()**\n",
    "\n",
    "## 4. to extract any specific quote from the website, e.g. the first quote.\n",
    "**response.xpath(\"//span[@class='text']/text()\")[1].extract()**"
   ]
  },
  {
   "cell_type": "markdown",
   "id": "ecadb829",
   "metadata": {},
   "source": [
    "### NOTE : <br> 1. the 'span' means the span tag. <br> 2. the '@class' means the class inside the tag. <br> 3. the '@class=text' means the name of the class. i.e. text <br> 4. '/text()' means the format of the data to be extracted."
   ]
  },
  {
   "cell_type": "markdown",
   "id": "1bc76fd9",
   "metadata": {},
   "source": [
    "## POINTS TO REMEMBER\n",
    "### 1. use double quotes and single quotes in proper way. <br> 2. if you have used double quotes in the outer end then in inside use single quotes and vice-versa. "
   ]
  },
  {
   "cell_type": "markdown",
   "id": "8875337b",
   "metadata": {},
   "source": [
    "## 5. to extract the 'href' tag from the bottons (use of both css selectors and xpath selectors)\n",
    "### 1. first right click on the button and click inspect. <br> 2. it contains of 'li' tag with class as 'next'. <br> 3. first select the li tag with next. \n",
    "**response.css(\"li.next**\n",
    "### 4. then select the 'a' tag which is inside the 'li' tag.\n",
    "**response.css(\"li.next a\")**\n",
    "### 5. it completed the css selector portion, i.e. go and check the 'li' tag which has a class as 'next' and inside this it has 'a' tag. <br> 6. then in xpath, inside it write 'href' and close it.\n",
    "**response.css(\"li.next a\").xpath(\"@href\").extract()**\n",
    "### 7. this way we extracted the data from the 'href' tag."
   ]
  },
  {
   "cell_type": "raw",
   "id": "a33bb800",
   "metadata": {},
   "source": [
    "['catalogue/page-2.html']"
   ]
  },
  {
   "cell_type": "markdown",
   "id": "4716c21e",
   "metadata": {},
   "source": [
    "## 8. to extract the 'href' connected links, for that we need only the 'a' tag.\n",
    "**response.css(\"a\").xpath(\"@href\").extract()**"
   ]
  },
  {
   "cell_type": "markdown",
   "id": "2ab99b92",
   "metadata": {},
   "source": [
    "['index.html', 'index.html', 'catalogue/category/books_1/index.html', 'catalogue/category/books/travel_2/index.html', 'catalogue/category/books/mystery_3/index.html', 'catalogue/category/books/historical-fiction_4/index.html', 'catalogue/category/books/sequential-art_5/index.html', 'catalogue/category/books/classics_6/index.html', 'catalogue/category/books/philosophy_7/index.html', 'catalogue/category/books/romance_8/index.html', 'catalogue/category/books/womens-fiction_9/index.html', 'catalogue/category/books/fiction_10/index.html']"
   ]
  }
 ],
 "metadata": {
  "kernelspec": {
   "display_name": "Python 3 (ipykernel)",
   "language": "python",
   "name": "python3"
  },
  "language_info": {
   "codemirror_mode": {
    "name": "ipython",
    "version": 3
   },
   "file_extension": ".py",
   "mimetype": "text/x-python",
   "name": "python",
   "nbconvert_exporter": "python",
   "pygments_lexer": "ipython3",
   "version": "3.11.5"
  }
 },
 "nbformat": 4,
 "nbformat_minor": 5
}
