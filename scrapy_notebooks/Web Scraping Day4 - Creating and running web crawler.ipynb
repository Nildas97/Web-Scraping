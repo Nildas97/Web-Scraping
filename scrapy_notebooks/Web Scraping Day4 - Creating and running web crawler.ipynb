{
 "cells": [
  {
   "cell_type": "markdown",
   "id": "e5ea28ab",
   "metadata": {},
   "source": [
    "# CREATING AND RUNNING A WEB CRAWLER"
   ]
  },
  {
   "cell_type": "markdown",
   "id": "01acc838",
   "metadata": {},
   "source": [
    "### By - Nilutpal Das"
   ]
  },
  {
   "cell_type": "markdown",
   "id": "0bfdcf8a",
   "metadata": {},
   "source": [
    "### NOTE : the process shown in this section is built to be run in dedicated IDE also inside a specific folder discussed in the previous notebook."
   ]
  },
  {
   "cell_type": "markdown",
   "id": "a983810e",
   "metadata": {},
   "source": [
    "## CODE\n",
    "### For more info regarding the code follow this path : webscrapy/webscrapy/spiders/scrapyquotes.py"
   ]
  },
  {
   "cell_type": "raw",
   "id": "276888ba",
   "metadata": {},
   "source": [
    "# CREATING AND RUNNING THE FIRST SPIDER CRAWLER\n",
    "\n",
    "# importing the library\n",
    "import scrapy\n",
    "\n",
    "# creating class \n",
    "class QuoteSpider(scrapy.Spider):\n",
    "    # creating a name variable \n",
    "    name = 'quotes'\n",
    "    # creating start_urls variable to store the url link\n",
    "    start_urls = ['https://quotes.toscrape.com/']\n",
    "    \n",
    "\n",
    "    # defining a funtion parse\n",
    "    def parse(self, response):\n",
    "        # creating a variable title to extract the data using css selector\n",
    "        title = response.css('title::text').extract()\n",
    "        # returning the output using yield keyword\n",
    "        yield {'titletext' : title}"
   ]
  },
  {
   "cell_type": "markdown",
   "id": "6eb7769e",
   "metadata": {},
   "source": [
    "### To run the code use this command in the terminal\n",
    "**scrapy crawl quotes**"
   ]
  },
  {
   "cell_type": "markdown",
   "id": "a351d5b4",
   "metadata": {},
   "source": [
    "### NOTE : the 'quotes' is the name of the crawler mentioned inside the class QuoteSpider in a 'name' variable section."
   ]
  }
 ],
 "metadata": {
  "kernelspec": {
   "display_name": "Python 3 (ipykernel)",
   "language": "python",
   "name": "python3"
  },
  "language_info": {
   "codemirror_mode": {
    "name": "ipython",
    "version": 3
   },
   "file_extension": ".py",
   "mimetype": "text/x-python",
   "name": "python",
   "nbconvert_exporter": "python",
   "pygments_lexer": "ipython3",
   "version": "3.11.5"
  }
 },
 "nbformat": 4,
 "nbformat_minor": 5
}
