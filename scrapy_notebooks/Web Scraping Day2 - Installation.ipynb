{
 "cells": [
  {
   "cell_type": "markdown",
   "metadata": {},
   "source": [
    "# INSTALLATION OF WEB SCRAPING TOOLS"
   ]
  },
  {
   "cell_type": "markdown",
   "metadata": {},
   "source": [
    "### By - Nilutpal Das"
   ]
  },
  {
   "cell_type": "markdown",
   "metadata": {},
   "source": [
    "## 1. SELECT AN IDE, (INTEGRATED DEVELOPMENT ENVIRONMENT)"
   ]
  },
  {
   "cell_type": "markdown",
   "metadata": {},
   "source": [
    "## In my case the IDE is VsCode. "
   ]
  },
  {
   "cell_type": "markdown",
   "metadata": {},
   "source": [
    "## 2. CREATE A VIRTUAL ENVIRONMENT"
   ]
  },
  {
   "cell_type": "markdown",
   "metadata": {},
   "source": [
    "## There are two option to work around. <br> 1. First using Anaconda. <br> 2. Second using only Python."
   ]
  },
  {
   "cell_type": "markdown",
   "metadata": {},
   "source": [
    "## if you choose Anaconda,in your IDE open terminal  and type this command. \n",
    "**conda create -p virtual_environment_name python=version_number**."
   ]
  },
  {
   "cell_type": "markdown",
   "metadata": {},
   "source": [
    "## if you choose Python, in your IDE open terminal and type this command. \n",
    "\n",
    "**python -m venv virtual_environment_name**"
   ]
  },
  {
   "cell_type": "markdown",
   "metadata": {},
   "source": [
    "## 3. ACTIVATE THE VIRTUAL ENVIRONMENT"
   ]
  },
  {
   "cell_type": "markdown",
   "metadata": {},
   "source": [
    "## if option is Anaconda, in your IDE open terminal and type this command.\n",
    "**conda activate virtual_environment_name/** "
   ]
  },
  {
   "cell_type": "markdown",
   "metadata": {},
   "source": [
    "## if option is Python, in your IDE open terminal and type this command. \n",
    "**source ./virtual_environment_name/Scripts/activate**"
   ]
  },
  {
   "cell_type": "markdown",
   "metadata": {},
   "source": [
    "## 4. INSTALL THE SCRAPY PYTHON PACKAGES"
   ]
  },
  {
   "cell_type": "markdown",
   "metadata": {},
   "source": [
    "## type this command to install scrapy packages \n",
    "**pip install scrapy**"
   ]
  },
  {
   "cell_type": "markdown",
   "metadata": {},
   "source": [
    "## 5. START SCRAPY PROJECT"
   ]
  },
  {
   "cell_type": "markdown",
   "metadata": {},
   "source": [
    "## for starting a scrapy project, create a folder to store all the scrapy related data. \n",
    "**scrapy startproject project_name**"
   ]
  }
 ],
 "metadata": {
  "kernelspec": {
   "display_name": "Python 3 (ipykernel)",
   "language": "python",
   "name": "python3"
  },
  "language_info": {
   "codemirror_mode": {
    "name": "ipython",
    "version": 3
   },
   "file_extension": ".py",
   "mimetype": "text/x-python",
   "name": "python",
   "nbconvert_exporter": "python",
   "pygments_lexer": "ipython3",
   "version": "3.11.5"
  }
 },
 "nbformat": 4,
 "nbformat_minor": 2
}
