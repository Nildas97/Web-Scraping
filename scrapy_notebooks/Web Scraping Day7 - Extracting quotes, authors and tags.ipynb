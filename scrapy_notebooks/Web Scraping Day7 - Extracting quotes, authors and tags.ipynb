{
 "cells": [
  {
   "cell_type": "markdown",
   "id": "fddd92fe",
   "metadata": {},
   "source": [
    "# EXTRACTING QUOTES, AUTHORS AND TAGS"
   ]
  },
  {
   "cell_type": "markdown",
   "id": "1df19c6e",
   "metadata": {},
   "source": [
    "### By - Nilutpal Das"
   ]
  },
  {
   "cell_type": "markdown",
   "id": "6cc8be13",
   "metadata": {},
   "source": [
    "## NOTE : the process shown in this section is built to be run in dedicated IDE also inside a specific folder discussed in the previous notebook."
   ]
  },
  {
   "cell_type": "markdown",
   "id": "3da93769",
   "metadata": {},
   "source": [
    "# CODE\n",
    "### For more info regarding the code follow this path : webscrapy/webscrapy/spiders/scrapyquotes.py"
   ]
  },
  {
   "cell_type": "raw",
   "id": "7f7b88de",
   "metadata": {},
   "source": [
    "# CREATING AND RUNNING THE FIRST SPIDER CRAWLER\n",
    "\n",
    "# importing the library\n",
    "import scrapy\n",
    "\n",
    "# creating class \n",
    "class QuoteSpider(scrapy.Spider):\n",
    "    # creating a name variable \n",
    "    name = 'quotes'\n",
    "    # creating start_urls variable to store the url link\n",
    "    start_urls = ['https://quotes.toscrape.com/']\n",
    "    \n",
    "\n",
    "    # defining a function parse\n",
    "    def parse(self, response):\n",
    "        # creating a new variable to extract the quotes using css selectors\n",
    "        all_div_quotes = response.css('div.quote') # we are not using .extract() function\n",
    "        # we are just locating the div tag and inside it has span tag along with text as class\n",
    "        # creating a new variable for extracting quotes\n",
    "        \n",
    "        quote = all_div_quotes.css('span.text::text').extract()\n",
    "        # creating a new variable for extracting authors\n",
    "        author = all_div_quotes.css('.author::text').extract()\n",
    "        # creating a new variable for extracting tags\n",
    "        tag = all_div_quotes.css('.tag::text').extract()\n",
    "        # returning the output using yield keyword\n",
    "        yield {\n",
    "            'quote' : quote,\n",
    "            'author' : author,\n",
    "            'tag' : tag\n",
    "        }    "
   ]
  },
  {
   "cell_type": "raw",
   "id": "996b7c19",
   "metadata": {},
   "source": [
    "{'quote': ['“The world as we have created it is a process of our thinking. It cannot be changed without changing our thinking.”', '“It is our choices, Harry, that show what we truly are, far more than our abilities.”', '“There are only two ways to live your life. One is as though nothing is a miracle. The other is as though everything is a miracle.”', '“The person, be it gentleman or lady, who has not pleasure in a good novel, must be intolerably stupid.”', \"“Imperfection is beauty, madness is genius and it's better to be absolutely ridiculous than absolutely boring.”\", '“Try not to become a man of success. Rather become a man of value.”', '“It is better to be hated for what you are than to be loved for what you are not.”', \"“I have not failed. I've just found 10,000 ways that won't work.”\", \"“A woman is like a tea bag; you never know how strong it is until it's in hot water.”\", '“A day without sunshine is like, you know, night.”'], 'author': ['Albert Einstein', 'J.K. Rowling', 'Albert Einstein', 'Jane Austen', 'Marilyn Monroe', 'Albert Einstein', 'André Gide', 'Thomas \n",
    "A. Edison', 'Eleanor Roosevelt', 'Steve Martin'], 'tag': ['change', 'deep-thoughts', 'thinking', 'world', 'abilities', 'choices', 'inspirational', 'life', 'live', 'miracle', 'miracles', 'aliteracy', 'books', 'classic', 'humor', 'be-yourself', 'inspirational', 'adulthood', 'success', 'value', 'life', 'love', 'edison', 'failure', 'inspirational', 'paraphrased', \n",
    "'misattributed-eleanor-roosevelt', 'humor', 'obvious', 'simile']}"
   ]
  },
  {
   "cell_type": "markdown",
   "id": "019c3b04",
   "metadata": {},
   "source": [
    "## the output is not in a proper readable format"
   ]
  },
  {
   "cell_type": "markdown",
   "id": "8cdfbd57",
   "metadata": {},
   "source": [
    "## if you want your quotes, authors name and tags should be seperate for each quotes, then add a 'for loop'."
   ]
  },
  {
   "cell_type": "raw",
   "id": "0bd1b26c",
   "metadata": {},
   "source": [
    "# CREATING AND RUNNING THE FIRST SPIDER CRAWLER\n",
    "\n",
    "# importing the library\n",
    "import scrapy\n",
    "\n",
    "# creating class \n",
    "class QuoteSpider(scrapy.Spider):\n",
    "    # creating a name variable \n",
    "    name = 'quotes'\n",
    "    # creating start_urls variable to store the url link\n",
    "    start_urls = ['https://quotes.toscrape.com/']\n",
    "    \n",
    "\n",
    "    # defining a function parse\n",
    "    def parse(self, response):\n",
    "        # creating a new variable to extract the quotes using css selectors\n",
    "        all_div_quotes = response.css('div.quote') # we are not using .extract() function\n",
    "        # we are just locating the div tag and inside it has span tag along with text as class\n",
    "        \n",
    "        # adding a for loop for better readability of output\n",
    "        for quotes in all_div_quotes:\n",
    "        \n",
    "            # creating a new variable for extracting quotes\n",
    "            quote = all_div_quotes.css('span.text::text').extract()\n",
    "            # creating a new variable for extracting authors\n",
    "            author = all_div_quotes.css('.author::text').extract()\n",
    "            # creating a new variable for extracting tags\n",
    "            tag = all_div_quotes.css('.tag::text').extract()\n",
    "            # returning the output using yield keyword\n",
    "            yield {\n",
    "                'quote' : quote,\n",
    "                'author' : author,\n",
    "                'tag' : tag\n",
    "            }    "
   ]
  },
  {
   "cell_type": "raw",
   "id": "c514ed9d",
   "metadata": {},
   "source": [
    "{'quote': ['“The world as we have created it is a process of our thinking. It cannot be changed without changing our thinking.”'], 'author': ['Albert Einstein'], 'tag': ['change', 'deep-thoughts', 'thinking', 'world']}\n",
    "{'quote': ['“It is our choices, Harry, that show what we truly are, far more than our abilities.”'], 'author': ['J.K. Rowling'], 'tag': ['abilities', 'choices']}\n",
    "{'quote': ['“There are only two ways to live your life. One is as though nothing is a miracle. The other is as though everything is a miracle.”'], 'author': ['Albert Einstein'], 'tag': ['inspirational', 'life', 'live', 'miracle', 'miracles']}\n",
    "{'quote': ['“The person, be it gentleman or lady, who has not pleasure in a good novel, must be intolerably stupid.”'], 'author': ['Jane Austen'], 'tag': ['aliteracy', 'books', 'classic', 'humor']}\n",
    "{'quote': [\"“Imperfection is beauty, madness is genius and it's better to be absolutely ridiculous than absolutely boring.”\"], 'author': ['Marilyn Monroe'], 'tag': ['be-yourself', 'inspirational']}\n",
    "{'quote': ['“Try not to become a man of success. Rather become a man of value.”'], 'author': ['Albert Einstein'], 'tag': ['adulthood', 'success', 'value']}\n",
    "{'quote': ['“It is better to be hated for what you are than to be loved for what you are not.”'], 'author': ['André Gide'], 'tag': ['life', 'love']}\n",
    "{'quote': [\"“I have not failed. I've just found 10,000 ways that won't work.”\"], 'author': ['Thomas A. Edison'], 'tag': ['edison', 'failure', 'inspirational', 'paraphrased']}       \n",
    "{'quote': [\"“A woman is like a tea bag; you never know how strong it is until it's in hot water.”\"], 'author': ['Eleanor Roosevelt'], 'tag': ['misattributed-eleanor-roosevelt']}    \n",
    "{'quote': ['“A day without sunshine is like, you know, night.”'], 'author': ['Steve Martin'], 'tag': ['humor', 'obvious', 'simile']}"
   ]
  },
  {
   "cell_type": "markdown",
   "id": "13e8bace",
   "metadata": {},
   "source": [
    "## the output is in proper readable format"
   ]
  }
 ],
 "metadata": {
  "kernelspec": {
   "display_name": "Python 3 (ipykernel)",
   "language": "python",
   "name": "python3"
  },
  "language_info": {
   "codemirror_mode": {
    "name": "ipython",
    "version": 3
   },
   "file_extension": ".py",
   "mimetype": "text/x-python",
   "name": "python",
   "nbconvert_exporter": "python",
   "pygments_lexer": "ipython3",
   "version": "3.11.5"
  }
 },
 "nbformat": 4,
 "nbformat_minor": 5
}
